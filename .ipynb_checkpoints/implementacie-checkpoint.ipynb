{
 "cells": [
  {
   "cell_type": "code",
   "execution_count": 12,
   "id": "2b42e6c6-9e95-48f1-9c10-3efc30afa272",
   "metadata": {},
   "outputs": [
    {
     "data": {
      "text/plain": [
       "array([ 2, 18])"
      ]
     },
     "execution_count": 12,
     "metadata": {},
     "output_type": "execute_result"
    }
   ],
   "source": [
    "np.random.choice(20, 2, replace=False)"
   ]
  },
  {
   "cell_type": "code",
   "execution_count": 16,
   "id": "ddd830c8-0566-4496-b731-b21d158d8664",
   "metadata": {},
   "outputs": [
    {
     "name": "stdout",
     "output_type": "stream",
     "text": [
      "Najlepšie riešenie: [0 0 1 0 1]\n",
      "Hodnota riešenia: 50\n",
      "Využitie kapacít:\n",
      "Dimenzia 1: 10/10\n",
      "Dimenzia 2: 12/12\n"
     ]
    }
   ],
   "source": [
    "import numpy as np\n",
    "from typing import List, Tuple\n",
    "\n",
    "class MKPSolver:\n",
    "    def __init__(self, \n",
    "                 values: List[int],            \n",
    "                 weights: List[List[int]],    \n",
    "                 capacities: List[int],      \n",
    "                 temperature: float = 1000.0, \n",
    "                 cooling_rate: float = 0.95,  \n",
    "                 iterations: int = 100,     \n",
    "                 min_temp: float = 1.0):   \n",
    "        \n",
    "        self.values = np.array(values)\n",
    "        self.weights = np.array(weights)\n",
    "        self.capacities = np.array(capacities)\n",
    "        self.n_items = len(values)\n",
    "        self.n_dimensions = len(capacities)\n",
    "        \n",
    "        self.temperature = temperature\n",
    "        self.cooling_rate = cooling_rate\n",
    "        self.iterations = iterations\n",
    "        self.min_temp = min_temp\n",
    "        \n",
    "    def is_feasible(self, solution: np.ndarray) -> bool:\n",
    "        for dim in range(self.n_dimensions):\n",
    "            if np.sum(solution * self.weights[dim]) > self.capacities[dim]:\n",
    "                return False\n",
    "        return True\n",
    "    \n",
    "    def objective_function(self, solution: np.ndarray) -> float:\n",
    "        if not self.is_feasible(solution):\n",
    "            return float('-inf')\n",
    "        return np.sum(solution * self.values)\n",
    "    \n",
    "    def generate_neighbor(self, solution: np.ndarray) -> np.ndarray:\n",
    "        neighbor = solution.copy()\n",
    "        if np.random.random() < 0.5:\n",
    "            idx = np.random.randint(0, self.n_items)\n",
    "            neighbor[idx] = 1 - neighbor[idx]\n",
    "        else:\n",
    "            idx1, idx2 = np.random.choice(self.n_items, 2, replace=False)\n",
    "            neighbor[idx1] = 1 - neighbor[idx1]\n",
    "            neighbor[idx2] = 1 - neighbor[idx2]\n",
    "        return neighbor\n",
    "    \n",
    "    def solve(self) -> Tuple[np.ndarray, float]:\n",
    "        current_solution = np.random.randint(2, size=self.n_items)\n",
    "        while not self.is_feasible(current_solution):\n",
    "            current_solution = np.random.randint(2, size=self.n_items)\n",
    "        \n",
    "        current_value = self.objective_function(current_solution)\n",
    "        best_solution = current_solution.copy()\n",
    "        best_value = current_value\n",
    "        \n",
    "        T = self.temperature\n",
    "        \n",
    "        while T > self.min_temp:\n",
    "            for _ in range(self.iterations):\n",
    "                neighbor_solution = self.generate_neighbor(current_solution)\n",
    "                neighbor_value = self.objective_function(neighbor_solution)\n",
    "                \n",
    "                delta = neighbor_value - current_value\n",
    "                \n",
    "                if delta > 0 or np.random.random() < np.exp(delta / T):\n",
    "                    current_solution = neighbor_solution\n",
    "                    current_value = neighbor_value\n",
    "                    \n",
    "                    if current_value > best_value:\n",
    "                        best_solution = current_solution.copy()\n",
    "                        best_value = current_value\n",
    "            \n",
    "            T *= self.cooling_rate\n",
    "            \n",
    "        return best_solution, best_value\n",
    "\n",
    "def example_mkp():\n",
    "    values = [10, 15, 20, 25, 30]\n",
    "    weights = [\n",
    "        [2, 3, 4, 5, 6],  \n",
    "        [3, 4, 5, 6, 7]  \n",
    "    ]\n",
    "    capacities = [10, 12] \n",
    "    \n",
    "    solver = MKPSolver(\n",
    "        values=values,\n",
    "        weights=weights,\n",
    "        capacities=capacities,\n",
    "        temperature=1000.0,\n",
    "        cooling_rate=0.95,\n",
    "        iterations=100,\n",
    "        min_temp=1.0\n",
    "    )\n",
    "    \n",
    "    solution, value = solver.solve()\n",
    "    \n",
    "    print(f\"Najlepšie riešenie: {solution}\")\n",
    "    print(f\"Hodnota riešenia: {value}\")\n",
    "    print(f\"Využitie kapacít:\")\n",
    "    for dim in range(len(capacities)):\n",
    "        used_capacity = np.sum(solution * weights[dim])\n",
    "        print(f\"Dimenzia {dim+1}: {used_capacity}/{capacities[dim]}\")\n",
    "\n",
    "if __name__ == \"__main__\":\n",
    "    example_mkp()"
   ]
  }
 ],
 "metadata": {
  "kernelspec": {
   "display_name": "Python (venv)",
   "language": "python",
   "name": "venv"
  },
  "language_info": {
   "codemirror_mode": {
    "name": "ipython",
    "version": 3
   },
   "file_extension": ".py",
   "mimetype": "text/x-python",
   "name": "python",
   "nbconvert_exporter": "python",
   "pygments_lexer": "ipython3",
   "version": "3.10.12"
  }
 },
 "nbformat": 4,
 "nbformat_minor": 5
}
